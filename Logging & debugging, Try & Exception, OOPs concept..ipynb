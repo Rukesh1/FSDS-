{
 "cells": [
  {
   "cell_type": "code",
   "execution_count": null,
   "id": "b0a0e3e4",
   "metadata": {},
   "outputs": [],
   "source": [
    "# Agenda of the section\n",
    "\n",
    "1.file handling\n",
    "2.loging & debugging\n",
    "3.try & exception\n",
    "4.Oops (inheritance)"
   ]
  },
  {
   "cell_type": "markdown",
   "id": "f73f86e7",
   "metadata": {},
   "source": [
    "## File Handling"
   ]
  },
  {
   "cell_type": "code",
   "execution_count": null,
   "id": "5e1f2598",
   "metadata": {},
   "outputs": [],
   "source": []
  },
  {
   "cell_type": "code",
   "execution_count": null,
   "id": "45b213e6",
   "metadata": {},
   "outputs": [],
   "source": [
    "# Opening a file in write mode\n",
    "file = open(\"example.txt\", \"w\")\n"
   ]
  },
  {
   "cell_type": "code",
   "execution_count": null,
   "id": "c44fec47",
   "metadata": {},
   "outputs": [],
   "source": [
    "# Writing to a file\n",
    "file.write(\"hi every one\")\n",
    "file.close()\n"
   ]
  },
  {
   "cell_type": "code",
   "execution_count": null,
   "id": "0f2f5d67",
   "metadata": {},
   "outputs": [],
   "source": [
    "open('example.txt','r+')"
   ]
  },
  {
   "cell_type": "code",
   "execution_count": null,
   "id": "fe04ebe7",
   "metadata": {},
   "outputs": [],
   "source": [
    "# Opening a file in append mode\n",
    "file = open(\"example.txt\", \"r+\")\n",
    "\n",
    "# Appending to a file\n",
    "file.write(\"This is a new line.\")\n"
   ]
  },
  {
   "cell_type": "code",
   "execution_count": null,
   "id": "ab8abdf3",
   "metadata": {},
   "outputs": [],
   "source": [
    "file.seek(9)"
   ]
  },
  {
   "cell_type": "code",
   "execution_count": null,
   "id": "6ee0000f",
   "metadata": {},
   "outputs": [],
   "source": [
    "file.readline()"
   ]
  },
  {
   "cell_type": "code",
   "execution_count": null,
   "id": "377fe669",
   "metadata": {},
   "outputs": [],
   "source": [
    "file.read()"
   ]
  },
  {
   "cell_type": "markdown",
   "id": "9cfd0fc2",
   "metadata": {},
   "source": [
    "## logging & debugging"
   ]
  },
  {
   "cell_type": "code",
   "execution_count": null,
   "id": "74fbf27c",
   "metadata": {},
   "outputs": [],
   "source": []
  },
  {
   "cell_type": "code",
   "execution_count": null,
   "id": "e5d96ab2",
   "metadata": {},
   "outputs": [],
   "source": [
    "import logging"
   ]
  },
  {
   "cell_type": "code",
   "execution_count": null,
   "id": "4ef21ad1",
   "metadata": {},
   "outputs": [],
   "source": []
  },
  {
   "cell_type": "code",
   "execution_count": null,
   "id": "e4581cd9",
   "metadata": {},
   "outputs": [],
   "source": []
  },
  {
   "cell_type": "code",
   "execution_count": 1,
   "id": "d5f3b14e",
   "metadata": {},
   "outputs": [],
   "source": [
    "import logging\n",
    "\n",
    "# Configure the logging module\n",
    "logging.basicConfig(filename='app1.log', level=logging.DEBUG, format='%(asctime)s - %(levelname)s - %(message)s')\n",
    "\n"
   ]
  },
  {
   "cell_type": "code",
   "execution_count": 2,
   "id": "ec9c5f76",
   "metadata": {},
   "outputs": [
    {
     "ename": "KeyboardInterrupt",
     "evalue": "Interrupted by user",
     "output_type": "error",
     "traceback": [
      "\u001b[0;31m---------------------------------------------------------------------------\u001b[0m",
      "\u001b[0;31mKeyboardInterrupt\u001b[0m                         Traceback (most recent call last)",
      "\u001b[0;32m/tmp/ipykernel_58823/3392328024.py\u001b[0m in \u001b[0;36m<module>\u001b[0;34m\u001b[0m\n\u001b[0;32m----> 1\u001b[0;31m \u001b[0mnum1\u001b[0m \u001b[0;34m=\u001b[0m \u001b[0mint\u001b[0m\u001b[0;34m(\u001b[0m\u001b[0minput\u001b[0m\u001b[0;34m(\u001b[0m\u001b[0;34m\"Enter a number: \"\u001b[0m\u001b[0;34m)\u001b[0m\u001b[0;34m)\u001b[0m\u001b[0;34m\u001b[0m\u001b[0;34m\u001b[0m\u001b[0m\n\u001b[0m\u001b[1;32m      2\u001b[0m \u001b[0mnum2\u001b[0m \u001b[0;34m=\u001b[0m \u001b[0mint\u001b[0m\u001b[0;34m(\u001b[0m\u001b[0minput\u001b[0m\u001b[0;34m(\u001b[0m\u001b[0;34m\"Enter another number: \"\u001b[0m\u001b[0;34m)\u001b[0m\u001b[0;34m)\u001b[0m\u001b[0;34m\u001b[0m\u001b[0;34m\u001b[0m\u001b[0m\n\u001b[1;32m      3\u001b[0m \u001b[0;34m\u001b[0m\u001b[0m\n\u001b[1;32m      4\u001b[0m \u001b[0mresult\u001b[0m \u001b[0;34m=\u001b[0m \u001b[0mnum1\u001b[0m \u001b[0;34m/\u001b[0m \u001b[0mnum2\u001b[0m\u001b[0;34m\u001b[0m\u001b[0;34m\u001b[0m\u001b[0m\n\u001b[1;32m      5\u001b[0m \u001b[0mprint\u001b[0m\u001b[0;34m(\u001b[0m\u001b[0;34m\"Result:\"\u001b[0m\u001b[0;34m,\u001b[0m \u001b[0mresult\u001b[0m\u001b[0;34m)\u001b[0m\u001b[0;34m\u001b[0m\u001b[0;34m\u001b[0m\u001b[0m\n",
      "\u001b[0;32m~/anaconda3/lib/python3.9/site-packages/ipykernel/kernelbase.py\u001b[0m in \u001b[0;36mraw_input\u001b[0;34m(self, prompt)\u001b[0m\n\u001b[1;32m   1175\u001b[0m                 \u001b[0;34m\"raw_input was called, but this frontend does not support input requests.\"\u001b[0m\u001b[0;34m\u001b[0m\u001b[0;34m\u001b[0m\u001b[0m\n\u001b[1;32m   1176\u001b[0m             )\n\u001b[0;32m-> 1177\u001b[0;31m         return self._input_request(\n\u001b[0m\u001b[1;32m   1178\u001b[0m             \u001b[0mstr\u001b[0m\u001b[0;34m(\u001b[0m\u001b[0mprompt\u001b[0m\u001b[0;34m)\u001b[0m\u001b[0;34m,\u001b[0m\u001b[0;34m\u001b[0m\u001b[0;34m\u001b[0m\u001b[0m\n\u001b[1;32m   1179\u001b[0m             \u001b[0mself\u001b[0m\u001b[0;34m.\u001b[0m\u001b[0m_parent_ident\u001b[0m\u001b[0;34m[\u001b[0m\u001b[0;34m\"shell\"\u001b[0m\u001b[0;34m]\u001b[0m\u001b[0;34m,\u001b[0m\u001b[0;34m\u001b[0m\u001b[0;34m\u001b[0m\u001b[0m\n",
      "\u001b[0;32m~/anaconda3/lib/python3.9/site-packages/ipykernel/kernelbase.py\u001b[0m in \u001b[0;36m_input_request\u001b[0;34m(self, prompt, ident, parent, password)\u001b[0m\n\u001b[1;32m   1217\u001b[0m             \u001b[0;32mexcept\u001b[0m \u001b[0mKeyboardInterrupt\u001b[0m\u001b[0;34m:\u001b[0m\u001b[0;34m\u001b[0m\u001b[0;34m\u001b[0m\u001b[0m\n\u001b[1;32m   1218\u001b[0m                 \u001b[0;31m# re-raise KeyboardInterrupt, to truncate traceback\u001b[0m\u001b[0;34m\u001b[0m\u001b[0;34m\u001b[0m\u001b[0m\n\u001b[0;32m-> 1219\u001b[0;31m                 \u001b[0;32mraise\u001b[0m \u001b[0mKeyboardInterrupt\u001b[0m\u001b[0;34m(\u001b[0m\u001b[0;34m\"Interrupted by user\"\u001b[0m\u001b[0;34m)\u001b[0m \u001b[0;32mfrom\u001b[0m \u001b[0;32mNone\u001b[0m\u001b[0;34m\u001b[0m\u001b[0;34m\u001b[0m\u001b[0m\n\u001b[0m\u001b[1;32m   1220\u001b[0m             \u001b[0;32mexcept\u001b[0m \u001b[0mException\u001b[0m\u001b[0;34m:\u001b[0m\u001b[0;34m\u001b[0m\u001b[0;34m\u001b[0m\u001b[0m\n\u001b[1;32m   1221\u001b[0m                 \u001b[0mself\u001b[0m\u001b[0;34m.\u001b[0m\u001b[0mlog\u001b[0m\u001b[0;34m.\u001b[0m\u001b[0mwarning\u001b[0m\u001b[0;34m(\u001b[0m\u001b[0;34m\"Invalid Message:\"\u001b[0m\u001b[0;34m,\u001b[0m \u001b[0mexc_info\u001b[0m\u001b[0;34m=\u001b[0m\u001b[0;32mTrue\u001b[0m\u001b[0;34m)\u001b[0m\u001b[0;34m\u001b[0m\u001b[0;34m\u001b[0m\u001b[0m\n",
      "\u001b[0;31mKeyboardInterrupt\u001b[0m: Interrupted by user"
     ]
    }
   ],
   "source": [
    "num1 = int(input(\"Enter a number: \"))\n",
    "num2 = int(input(\"Enter another number: \"))\n",
    "\n",
    "result = num1 / num2\n",
    "print(\"Result:\", result)"
   ]
  },
  {
   "cell_type": "code",
   "execution_count": null,
   "id": "8d4a3b8a",
   "metadata": {},
   "outputs": [],
   "source": [
    "# The try block lets you test a block of code for errors.\n",
    "\n",
    "# The except block lets you handle the error.\n",
    "\n",
    "# The else block lets you execute code when there is no error.\n",
    "\n",
    "# The finally block lets you execute code, regardless of the result of the try- and except blocks."
   ]
  },
  {
   "cell_type": "code",
   "execution_count": null,
   "id": "b2b9f2cf",
   "metadata": {},
   "outputs": [],
   "source": [
    "num1 = int(input(\"Enter a number: \"))\n",
    "num2 = int(input(\"Enter another number: \"))\n",
    "\n",
    "result = num1 / num2\n",
    "print(\"Result:\", result)2023-06-01 18:34:56,075 - INFO - good\n",
    "2023-06-01 19:43:43,608 - DEBUG - pickle loaded: /home/ubuntu/anaconda3/lib/python3.9/site-packages/jedi/third_party/typeshed/stdlib/3/builtins.pyi\n",
    "2023-06-01 19:43:43,632 - DEBUG - pickle loaded: /home/ubuntu/anaconda3/lib/python3.9/typing.py\n",
    "2023-06-01 19:43:43,638 - DEBUG - pickle loaded: /home/ubuntu/anaconda3/lib/python3.9/site-packages/jedi/third_party/typeshed/stdlib/3/typing.pyi\n",
    "2023-06-01 19:47:59,186 - DEBUG - diff parser start\n",
    "2023-06-01 19:47:59,195 - DEBUG - line_lengths old: 4; new: 1\n",
    "2023-06-01 19:47:59,195 - DEBUG - -> code[replace] old[1:4] new[1:1]\n",
    "2023-06-01 19:47:59,196 - DEBUG - parse_part from 1 to 1 (to 0 in part parser)\n",
    "2023-06-01 19:47:59,196 - DEBUG - diff parser end"
   ]
  },
  {
   "cell_type": "code",
   "execution_count": null,
   "id": "11eff3d7",
   "metadata": {},
   "outputs": [],
   "source": [
    "print(x)"
   ]
  },
  {
   "cell_type": "code",
   "execution_count": 3,
   "id": "d46b6f1b",
   "metadata": {},
   "outputs": [
    {
     "name": "stdout",
     "output_type": "stream",
     "text": [
      "x\n"
     ]
    }
   ],
   "source": [
    "try:\n",
    "    print('x')\n",
    "    logging.info('not good')\n",
    "except Exception as e:\n",
    "    print(e)"
   ]
  },
  {
   "cell_type": "code",
   "execution_count": 4,
   "id": "36937a6d",
   "metadata": {},
   "outputs": [
    {
     "name": "stdout",
     "output_type": "stream",
     "text": [
      "Variable x is not defined\n"
     ]
    }
   ],
   "source": [
    "try:\n",
    "    print(x)\n",
    "\n",
    "except NameError:\n",
    "    print(\"Variable x is not defined\")\n",
    "    logging.info('error occured')\n",
    "except:\n",
    "    print(\"Something else went wrong\")"
   ]
  },
  {
   "cell_type": "code",
   "execution_count": null,
   "id": "7e39ec26",
   "metadata": {},
   "outputs": [],
   "source": [
    "try:\n",
    "    print('Hello')\n",
    "    logging.info('good')\n",
    "except Exception as e:\n",
    "    print(e)\n",
    "else:\n",
    "    print(\"Nothing went wrong\")"
   ]
  },
  {
   "cell_type": "code",
   "execution_count": null,
   "id": "7e436d60",
   "metadata": {},
   "outputs": [],
   "source": [
    "try:\n",
    "    print(x)\n",
    "except:\n",
    "    print(\"Something went wrong\")\n",
    "finally:\n",
    "    print(\"The 'try except' is finished\")"
   ]
  },
  {
   "cell_type": "code",
   "execution_count": null,
   "id": "a2c22251",
   "metadata": {},
   "outputs": [],
   "source": [
    "try:\n",
    "    num1 = int(input(\"Enter a number: \"))\n",
    "    num2 = int(input(\"Enter another number: \"))\n",
    "\n",
    "    result = num1 / num2\n",
    "    print(\"Result:\", result)\n",
    "\n",
    "except ZeroDivisionError:\n",
    "    print(\"Error: Cannot divide by zero.\")"
   ]
  },
  {
   "cell_type": "code",
   "execution_count": null,
   "id": "43607115",
   "metadata": {},
   "outputs": [],
   "source": [
    "num1 = int(input(\"Enter a number: \"))\n",
    "num2 = int(input(\"Enter another number: \"))\n",
    "\n",
    "result = num1 / num2\n",
    "print(\"Result:\", result)"
   ]
  },
  {
   "cell_type": "code",
   "execution_count": null,
   "id": "3c461132",
   "metadata": {},
   "outputs": [],
   "source": [
    "## OOPs Concepts in Python\n",
    "### Class\n",
    "### Objects\n",
    "### Polymorphism\n",
    "### Encapsulation\n",
    "### Inheritance\n",
    "### Data Abstraction"
   ]
  },
  {
   "cell_type": "code",
   "execution_count": null,
   "id": "e1f78e22",
   "metadata": {},
   "outputs": [],
   "source": []
  },
  {
   "cell_type": "code",
   "execution_count": null,
   "id": "36eed3f1",
   "metadata": {},
   "outputs": [],
   "source": []
  },
  {
   "cell_type": "code",
   "execution_count": null,
   "id": "98bf6e38",
   "metadata": {},
   "outputs": [],
   "source": []
  },
  {
   "cell_type": "markdown",
   "id": "18a2e427",
   "metadata": {},
   "source": [
    "# Types of in heritance"
   ]
  },
  {
   "cell_type": "markdown",
   "id": "efeee9a5",
   "metadata": {},
   "source": [
    "## Single Inheritance"
   ]
  },
  {
   "cell_type": "code",
   "execution_count": 6,
   "id": "866cd83e",
   "metadata": {},
   "outputs": [],
   "source": [
    "# 1.Single inheritance\n",
    "class Animal:\n",
    "    def __init__(self, name):\n",
    "        self.name = name\n",
    "\n",
    "    def eat(self):\n",
    "        print(f\"{self.name} is eating.\")\n",
    "\n",
    "class Dog(Animal):\n",
    "    def bark(self):\n",
    "        print(\"Woof!\")\n",
    "\n"
   ]
  },
  {
   "cell_type": "code",
   "execution_count": 7,
   "id": "739ff4c6",
   "metadata": {},
   "outputs": [],
   "source": [
    "animal=Dog('hack')"
   ]
  },
  {
   "cell_type": "code",
   "execution_count": 8,
   "id": "bbf20ccb",
   "metadata": {},
   "outputs": [
    {
     "name": "stdout",
     "output_type": "stream",
     "text": [
      "hack is eating.\n"
     ]
    }
   ],
   "source": [
    "animal.eat()"
   ]
  },
  {
   "cell_type": "code",
   "execution_count": 9,
   "id": "8f481338",
   "metadata": {},
   "outputs": [
    {
     "name": "stdout",
     "output_type": "stream",
     "text": [
      "Woof!\n"
     ]
    }
   ],
   "source": [
    "animal.bark()"
   ]
  },
  {
   "cell_type": "code",
   "execution_count": 5,
   "id": "8da10975",
   "metadata": {},
   "outputs": [
    {
     "name": "stdout",
     "output_type": "stream",
     "text": [
      "10 5 is a num\n"
     ]
    }
   ],
   "source": [
    "a=10\n",
    "b=5\n",
    "print(f'{a} {b} is a num')"
   ]
  },
  {
   "cell_type": "code",
   "execution_count": null,
   "id": "49dbadbc",
   "metadata": {},
   "outputs": [],
   "source": [
    "dog = Dog(\"Buddy\")\n",
    "dog.eat()  # Inherited from Animal class\n",
    "dog.bark()  # Defined in Dog class\n"
   ]
  },
  {
   "cell_type": "markdown",
   "id": "85b2c5fd",
   "metadata": {},
   "source": [
    "## Multiple Inheritance:"
   ]
  },
  {
   "cell_type": "code",
   "execution_count": null,
   "id": "5ec3bca2",
   "metadata": {},
   "outputs": [],
   "source": [
    "## 2. Multiple Inheritance:\n",
    "# Multiple inheritance allows a derived class to inherit properties and methods from multiple base classes. It enables a class to inherit from more than one parent class. Here's an example:"
   ]
  },
  {
   "cell_type": "code",
   "execution_count": 10,
   "id": "056ff738",
   "metadata": {},
   "outputs": [],
   "source": [
    "class Flyable:\n",
    "    def fly(self):\n",
    "        print(\"Flying...\")\n",
    "\n",
    "class Swimmable:\n",
    "    def swim(self):\n",
    "        print(\"Swimming...\")\n",
    "\n",
    "class Duck(Flyable, Swimmable):\n",
    "    def quack(self):\n",
    "        print(\"Quack!\")\n",
    "\n",
    "\n"
   ]
  },
  {
   "cell_type": "code",
   "execution_count": 11,
   "id": "982044fe",
   "metadata": {},
   "outputs": [
    {
     "name": "stdout",
     "output_type": "stream",
     "text": [
      "Flying...\n",
      "Swimming...\n",
      "Quack!\n"
     ]
    }
   ],
   "source": [
    "duck = Duck()\n",
    "duck.fly()  # Inherited from Flyable class\n",
    "duck.swim()  # Inherited from Swimmable class\n",
    "duck.quack()  # Defined in Duck class"
   ]
  },
  {
   "cell_type": "markdown",
   "id": "f57a20f1",
   "metadata": {},
   "source": [
    "## Multilevel Inheritance:"
   ]
  },
  {
   "cell_type": "code",
   "execution_count": null,
   "id": "c817a9fb",
   "metadata": {},
   "outputs": [],
   "source": [
    "# 3. Multilevel Inheritance:\n",
    "# Multilevel inheritance involves a derived class inheriting from another derived class. It forms a chain of inheritance, where a class serves as the base class for another class. Here's an example:"
   ]
  },
  {
   "cell_type": "code",
   "execution_count": 12,
   "id": "62c9b178",
   "metadata": {},
   "outputs": [],
   "source": [
    "class Animal:\n",
    "    def breathe(self):\n",
    "        print(\"Breathing...\")\n",
    "\n",
    "class Mammal(Animal):\n",
    "    def feed_milk(self):\n",
    "        print(\"Feeding milk...\")\n",
    "\n",
    "class Dog(Mammal):\n",
    "    def bark(self):\n",
    "        print(\"Woof!\")\n",
    "\n"
   ]
  },
  {
   "cell_type": "code",
   "execution_count": 13,
   "id": "364baacc",
   "metadata": {},
   "outputs": [
    {
     "name": "stdout",
     "output_type": "stream",
     "text": [
      "Breathing...\n",
      "Feeding milk...\n",
      "Woof!\n"
     ]
    }
   ],
   "source": [
    "dog = Dog()\n",
    "dog.breathe()  # Inherited from Animal class\n",
    "dog.feed_milk()  # Inherited from Mammal class\n",
    "dog.bark()  # Defined in Dog class\n"
   ]
  },
  {
   "cell_type": "markdown",
   "id": "8a233efc",
   "metadata": {},
   "source": [
    "## Hierarchical Inheritance:"
   ]
  },
  {
   "cell_type": "code",
   "execution_count": null,
   "id": "f0b4fbcb",
   "metadata": {},
   "outputs": [],
   "source": [
    "# 4. Hierarchical Inheritance:\n",
    "# Hierarchical inheritance occurs when multiple derived classes inherit from a single base class. Each derived class forms its own branch of inheritance from the common base class. Here's an example:"
   ]
  },
  {
   "cell_type": "code",
   "execution_count": 14,
   "id": "957005a6",
   "metadata": {},
   "outputs": [],
   "source": [
    "class Vehicle:\n",
    "    def start(self):\n",
    "        print(\"Vehicle started.\")\n",
    "\n",
    "class Car(Vehicle):\n",
    "    def drive(self):\n",
    "        print(\"Car driving.\")\n",
    "\n",
    "class Motorcycle(Vehicle):\n",
    "    def ride(self):\n",
    "        print(\"Motorcycle riding.\")\n",
    "\n",
    "class Truck(Vehicle):\n",
    "    def haul(self):\n",
    "        print(\"Truck hauling.\")\n",
    "\n",
    "\n"
   ]
  },
  {
   "cell_type": "code",
   "execution_count": 15,
   "id": "a4317e36",
   "metadata": {},
   "outputs": [
    {
     "name": "stdout",
     "output_type": "stream",
     "text": [
      "Vehicle started.\n",
      "Car driving.\n",
      "Vehicle started.\n",
      "Motorcycle riding.\n",
      "Vehicle started.\n",
      "Truck hauling.\n"
     ]
    }
   ],
   "source": [
    "car = Car()\n",
    "car.start()  # Inherited from Vehicle class\n",
    "car.drive()  # Defined in Car class\n",
    "\n",
    "motorcycle = Motorcycle()\n",
    "motorcycle.start()  # Inherited from Vehicle class\n",
    "motorcycle.ride()   # Defined in Motorcycle class\n",
    "\n",
    "truck = Truck()\n",
    "truck.start()  # Inherited from Vehicle class\n",
    "truck.haul()   # Defined in Truck class"
   ]
  },
  {
   "cell_type": "code",
   "execution_count": null,
   "id": "616b79a9",
   "metadata": {},
   "outputs": [],
   "source": []
  },
  {
   "cell_type": "code",
   "execution_count": null,
   "id": "1d20f85b",
   "metadata": {},
   "outputs": [],
   "source": []
  }
 ],
 "metadata": {
  "kernelspec": {
   "display_name": "Python 3 (ipykernel)",
   "language": "python",
   "name": "python3"
  },
  "language_info": {
   "codemirror_mode": {
    "name": "ipython",
    "version": 3
   },
   "file_extension": ".py",
   "mimetype": "text/x-python",
   "name": "python",
   "nbconvert_exporter": "python",
   "pygments_lexer": "ipython3",
   "version": "3.9.13"
  }
 },
 "nbformat": 4,
 "nbformat_minor": 5
}
